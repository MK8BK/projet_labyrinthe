{
 "cells": [
  {
   "cell_type": "code",
   "execution_count": 40,
   "id": "39aeebec",
   "metadata": {},
   "outputs": [],
   "source": [
    "#Exemple de structure de donnée représentant un labyrinthe\n",
    "lab_c = {\n",
    "    \"nlines\"  :3,\n",
    "    \"ncolumns\":4,\n",
    "    (0,0):[(1,0)      ], (0,1):[(1,1),(0,2)], (0,2):[(0,1),(0,3)], (0,3):[(0,2),(1,3)       ],\n",
    "    (1,0):[(0,0),(2,0)], (1,1):[(0,1),(1,2)], (1,2):[(1,1),(1,3)], (1,3):[(1,2),(0,3), (2,3)],\n",
    "    (2,0):[(1,0),(2,1)], (2,1):[(2,0),(2,2)], (2,2):[(2,1),(2,3)], (2,3):[(2,2),(1,3)       ]\n",
    "}"
   ]
  },
  {
   "cell_type": "code",
   "execution_count": 41,
   "id": "56a8df47",
   "metadata": {
    "code_folding": []
   },
   "outputs": [
    {
     "data": {
      "image/png": "[encoded data removed]",
      "text/plain": [
       "Graphics object consisting of 24 graphics primitives"
      ]
     },
     "execution_count": 41,
     "metadata": {},
     "output_type": "execute_result"
    }
   ],
   "source": [
    "def adjacent(cell):\n",
    "    return [\n",
    "        (cell[0]-1, cell[1]  ),\n",
    "        (cell[0]  , cell[1]-1),\n",
    "        (cell[0]+1, cell[1]  ),\n",
    "        (cell[0]  , cell[1]+1)\n",
    "    ]\n",
    "\n",
    "def get_wall(c1, c2, height):\n",
    "    \"\"\"\n",
    "    Revoie les coordonnées du mur entre les cases c1 et c2 d'un labyrinthe\n",
    "    \"\"\"\n",
    "    if c1[0] == c2[0]: #Mur vertical\n",
    "        x1 = (c1[1]+c2[1]+1)/2\n",
    "        x2 = (c1[1]+c2[1]+1)/2\n",
    "        y1 = height - c1[0]\n",
    "        y2 = height - c1[0] - 1\n",
    "        return ((x1, y1), (x2, y2))\n",
    "\n",
    "    if c1[1] == c2[1]: #Mur horizontal\n",
    "        x1 = c1[1]\n",
    "        x2 = c1[1]+1\n",
    "        y1 = height - (c1[0]+c2[0]+1)/2\n",
    "        y2 = height - (c1[0]+c2[0]+1)/2\n",
    "        return ((x1, y1), (x2, y2))\n",
    "\n",
    "def show_lab(lab):\n",
    "    \"\"\"\n",
    "    Affiche un labyrinthe lab donné dans un plote SageMaths\n",
    "    \"\"\"\n",
    "    walls = []\n",
    "    for key in [k for k in lab.keys() if type(k)!=type(' ')]:\n",
    "        for cell in adjacent(key):\n",
    "            if cell not in lab[key]:\n",
    "                walls.append(get_wall(key, cell, lab[\"nlines\"]))\n",
    "    return sum([line2d(wall) for wall in walls])\n",
    "\n",
    "show_lab(lab_c)"
   ]
  },
  {
   "cell_type": "code",
   "execution_count": 61,
   "id": "465299d1",
   "metadata": {},
   "outputs": [],
   "source": [
    "#Les 16 labyrinthe de 2x2\n",
    "\n",
    "lab_2x2_01 = {\n",
    "    \"nlines\"  :2,\n",
    "    \"ncolumns\":2,\n",
    "    (0,0):[(0,1),(1,0)], (0,1):[(0,0),(1,1)],\n",
    "    (1,0):[(0,0),(1,1)], (1,1):[(0,1),(1,0)]\n",
    "}\n",
    "\n",
    "lab_2x2_02 = {\n",
    "    \"nlines\"  :2,\n",
    "    \"ncolumns\":2,\n",
    "    (0,0):[      (1,0)], (0,1):[      (1,1)],\n",
    "    (1,0):[(0,0),(1,1)], (1,1):[(0,1),(1,0)]\n",
    "}\n",
    "\n",
    "lab_2x2_03 = {\n",
    "    \"nlines\"  :2,\n",
    "    \"ncolumns\":2,\n",
    "    (0,0):[(0,1),(1,0)], (0,1):[(0,0)      ],\n",
    "    (1,0):[(0,0),(1,1)], (1,1):[      (1,0)]\n",
    "}\n",
    "\n",
    "lab_2x2_04 = {\n",
    "    \"nlines\"  :2,\n",
    "    \"ncolumns\":2,\n",
    "    (0,0):[(0,1),(1,0)], (0,1):[(0,0),(1,1)],\n",
    "    (1,0):[(0,0)      ], (1,1):[(0,1)      ]\n",
    "}\n",
    "\n",
    "lab_2x2_05 = {\n",
    "    \"nlines\"  :2,\n",
    "    \"ncolumns\":2,\n",
    "    (0,0):[(0,1)      ], (0,1):[(0,0),(1,1)],\n",
    "    (1,0):[      (1,1)], (1,1):[(0,1),(1,0)]\n",
    "}\n",
    "\n",
    "lab_2x2_06 = {\n",
    "    \"nlines\"  :2,\n",
    "    \"ncolumns\":2,\n",
    "    (0,0):[      (1,0)], (0,1):[      (1,1)],\n",
    "    (1,0):[(0,0)      ], (1,1):[(0,1)      ]\n",
    "}\n",
    "\n",
    "lab_2x2_07 = {\n",
    "    \"nlines\"  :2,\n",
    "    \"ncolumns\":2,\n",
    "    (0,0):[(0,1)      ], (0,1):[(0,0)      ],\n",
    "    (1,0):[      (1,1)], (1,1):[      (1,0)]\n",
    "}\n",
    "\n",
    "lab_2x2_08 = {\n",
    "    \"nlines\"  :2,\n",
    "    \"ncolumns\":2,\n",
    "    (0,0):[      (1,0)], (0,1):[           ],\n",
    "    (1,0):[(0,0),(1,1)], (1,1):[      (1,0)]\n",
    "}\n",
    "\n",
    "lab_2x2_09 = {\n",
    "    \"nlines\"  :2,\n",
    "    \"ncolumns\":2,\n",
    "    (0,0):[(0,1),(1,0)], (0,1):[(0,0)      ],\n",
    "    (1,0):[(0,0)      ], (1,1):[           ]\n",
    "}\n",
    "\n",
    "lab_2x2_10 = {\n",
    "    \"nlines\"  :2,\n",
    "    \"ncolumns\":2,\n",
    "    (0,0):[(0,1)      ], (0,1):[(0,0),(1,1)],\n",
    "    (1,0):[           ], (1,1):[(0,1)      ]\n",
    "}\n",
    "\n",
    "lab_2x2_11 = {\n",
    "    \"nlines\"  :2,\n",
    "    \"ncolumns\":2,\n",
    "    (0,0):[           ], (0,1):[      (1,1)],\n",
    "    (1,0):[      (1,1)], (1,1):[(0,1),(1,0)]\n",
    "}\n",
    "\n",
    "lab_2x2_12 = {\n",
    "    \"nlines\"  :2,\n",
    "    \"ncolumns\":2,\n",
    "    (0,0):[      (1,0)], (0,1):[           ],\n",
    "    (1,0):[(0,0)      ], (1,1):[           ]\n",
    "}\n",
    "\n",
    "lab_2x2_13 = {\n",
    "    \"nlines\"  :2,\n",
    "    \"ncolumns\":2,\n",
    "    (0,0):[(0,1)      ], (0,1):[(0,0)      ],\n",
    "    (1,0):[           ], (1,1):[           ]\n",
    "}\n",
    "\n",
    "lab_2x2_14 = {\n",
    "    \"nlines\"  :2,\n",
    "    \"ncolumns\":2,\n",
    "    (0,0):[           ], (0,1):[      (1,1)],\n",
    "    (1,0):[           ], (1,1):[(0,1)      ]\n",
    "}\n",
    "\n",
    "lab_2x2_15 = {\n",
    "    \"nlines\"  :2,\n",
    "    \"ncolumns\":2,\n",
    "    (0,0):[           ], (0,1):[           ],\n",
    "    (1,0):[      (1,1)], (1,1):[      (1,0)]\n",
    "}\n",
    "\n",
    "lab_2x2_16 = {\n",
    "    \"nlines\"  :2,\n",
    "    \"ncolumns\":2,\n",
    "    (0,0):[           ], (0,1):[           ],\n",
    "    (1,0):[           ], (1,1):[           ]\n",
    "}"
   ]
  },
  {
   "cell_type": "code",
   "execution_count": 62,
   "id": "4864ecab",
   "metadata": {},
   "outputs": [],
   "source": [
    "L = [lab_2x2_01, \n",
    "     lab_2x2_02, \n",
    "     lab_2x2_03, \n",
    "     lab_2x2_04, \n",
    "     lab_2x2_05, \n",
    "     lab_2x2_06, \n",
    "     lab_2x2_07, \n",
    "     lab_2x2_08, \n",
    "     lab_2x2_09, \n",
    "     lab_2x2_10, \n",
    "     lab_2x2_11, \n",
    "     lab_2x2_12, \n",
    "     lab_2x2_13, \n",
    "     lab_2x2_14, \n",
    "     lab_2x2_15, \n",
    "     lab_2x2_16\n",
    "]\n",
    "L = [show_lab(l) for l in L]\n",
    "N = 4\n",
    "L = [L[n:n+N] for n in range(0, len(L), N)]"
   ]
  },
  {
   "cell_type": "code",
   "execution_count": 63,
   "id": "439e4dd8",
   "metadata": {},
   "outputs": [
    {
     "data": {
      "image/png": "[encoded data removed]",
      "text/plain": [
       "Graphics Array of size 4 x 4"
      ]
     },
     "execution_count": 63,
     "metadata": {},
     "output_type": "execute_result"
    }
   ],
   "source": [
    "graphics_array(L)"
   ]
  },
  {
   "cell_type": "code",
   "execution_count": null,
   "id": "b290d10d",
   "metadata": {},
   "outputs": [],
   "source": []
  }
 ],
 "metadata": {
  "kernelspec": {
   "display_name": "SageMath 9.3",
   "language": "sage",
   "name": "sagemath"
  },
  "language_info": {
   "codemirror_mode": {
    "name": "ipython",
    "version": 3
   },
   "file_extension": ".py",
   "mimetype": "text/x-python",
   "name": "python",
   "nbconvert_exporter": "python",
   "pygments_lexer": "ipython3",
   "version": "3.9.7"
  },
  "toc": {
   "base_numbering": 1,
   "nav_menu": {},
   "number_sections": true,
   "sideBar": true,
   "skip_h1_title": false,
   "title_cell": "Table of Contents",
   "title_sidebar": "Contents",
   "toc_cell": false,
   "toc_position": {},
   "toc_section_display": true,
   "toc_window_display": false
  },
  "varInspector": {
   "cols": {
    "lenName": 16,
    "lenType": 16,
    "lenVar": 40
   },
   "kernels_config": {
    "python": {
     "delete_cmd_postfix": "",
     "delete_cmd_prefix": "del ",
     "library": "var_list.py",
     "varRefreshCmd": "print(var_dic_list())"
    },
    "r": {
     "delete_cmd_postfix": ") ",
     "delete_cmd_prefix": "rm(",
     "library": "var_list.r",
     "varRefreshCmd": "cat(var_dic_list()) "
    }
   },
   "types_to_exclude": [
    "module",
    "function",
    "builtin_function_or_method",
    "instance",
    "_Feature"
   ],
   "window_display": false
  }
 },
 "nbformat": 4,
 "nbformat_minor": 5
}
