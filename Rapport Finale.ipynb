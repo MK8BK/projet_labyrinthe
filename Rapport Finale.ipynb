{
 "cells": [
  {
   "cell_type": "markdown",
   "id": "0a4724a4",
   "metadata": {},
   "source": [
    "# Rapport Finale projet math-info\n",
    "\n",
    "[Repositoire du projet](https://github.com/MK8BK/projet_labyrinthe/)\n",
    "\n",
    "## Auteurs\n",
    "| Nom  | Prénom | Courriel | Groupe | Github |\n",
    "| :-------------: | :-------------: | :-------------: | :-------------: | :-------------: |\n",
    "| AIT BELKACEM  | Moncef Karim  | moncef.ait-belkacem@universite-paris-saclay.fr  | LDDIM2  |[MK8BK](https://github.com/MK8BK)|\n",
    "| AMADI | Bilal | bilal.amadi@universite-paris-saclay.fr  | LDDIM2  |[bilaldjoss](https://github.com/bilaldjoss)|\n",
    "| LABOURET | Lucas | lucas.labouret@universite-paris-saclay.fr  | LDDIM2  |[Lucas-Labouret](https://github.com/Lucas-Labouret)|\n",
    "\n",
    "## Introduction\n",
    "\n",
    "Ceci est le rapport final de l'UE \"Projet Math-informatique\" en L1 LDDIM à l'université Paris-Saclay.\n",
    "\n",
    "Le but de cette UE est de découvrir la démarche de modélisation d'un problème scientifique grâce à l'outil informatique.\n",
    "\n",
    "## Sujet\n",
    "\n",
    "Nous avons choisi le sujet Labyrinthe"
   ]
  },
  {
   "cell_type": "markdown",
   "id": "9df8b99e",
   "metadata": {},
   "source": [
    "<img src=\"data/docs/SujetP2.jpeg\">"
   ]
  },
  {
   "cell_type": "markdown",
   "id": "41c360ba",
   "metadata": {},
   "source": [
    "## 2 Modelisation et Exploitation\n",
    "### 2.1 Modelisation et visualisation\n",
    "#### 2.1.1"
   ]
  },
  {
   "cell_type": "code",
   "execution_count": 2,
   "id": "00f3971a",
   "metadata": {},
   "outputs": [
    {
     "data": {
      "text/plain": [
       "[['b', 'db', 'dg', 'bg'], ['hb', 'hd', 'dg', 'hbg'], ['hd', 'dg', 'dg', 'hg']]"
      ]
     },
     "execution_count": 2,
     "metadata": {},
     "output_type": "execute_result"
    }
   ],
   "source": [
    "from treatment import encodeLab, decodeLab\n",
    "\n",
    "#Exemple de structure de donnée représentant un labyrinthe\n",
    "rep1 = {\n",
    "    \"nlines\"  :3,\n",
    "    \"ncolumns\":4,\n",
    "    (0,0):[(1,0)      ], (0,1):[(1,1),(0,2)], (0,2):[(0,1),(0,3)], (0,3):[(0,2),(1,3)       ],\n",
    "    (1,0):[(0,0),(2,0)], (1,1):[(0,1),(1,2)], (1,2):[(1,1),(1,3)], (1,3):[(1,2),(0,3), (2,3)],\n",
    "    (2,0):[(1,0),(2,1)], (2,1):[(2,0),(2,2)], (2,2):[(2,1),(2,3)], (2,3):[(2,2),(1,3)       ]\n",
    "}\n",
    "\n",
    "#prototype de representation: inutilisee\n",
    "rep2 = decodeLab(rep1)\n",
    "\n",
    "#representation binaire des murs et des colonnes\n"
   ]
  },
  {
   "cell_type": "markdown",
   "id": "54aabe43",
   "metadata": {},
   "source": [
    "#### 2.1.2"
   ]
  },
  {
   "cell_type": "code",
   "execution_count": null,
   "id": "57b3d2d2",
   "metadata": {},
   "outputs": [],
   "source": []
  },
  {
   "cell_type": "markdown",
   "id": "ded634c6",
   "metadata": {},
   "source": [
    "#### 2.1.3"
   ]
  },
  {
   "cell_type": "code",
   "execution_count": null,
   "id": "f13e644a",
   "metadata": {},
   "outputs": [],
   "source": []
  },
  {
   "cell_type": "markdown",
   "id": "61d86c66",
   "metadata": {},
   "source": [
    "### 2.2 Generation aleatoire"
   ]
  },
  {
   "cell_type": "markdown",
   "id": "15481787",
   "metadata": {},
   "source": [
    "#### 2.2.1"
   ]
  },
  {
   "cell_type": "code",
   "execution_count": null,
   "id": "30d163f7",
   "metadata": {},
   "outputs": [],
   "source": []
  },
  {
   "cell_type": "markdown",
   "id": "a33067f1",
   "metadata": {},
   "source": [
    "#### 2.2.2"
   ]
  },
  {
   "cell_type": "code",
   "execution_count": null,
   "id": "d101490c",
   "metadata": {},
   "outputs": [],
   "source": []
  },
  {
   "cell_type": "markdown",
   "id": "18433115",
   "metadata": {},
   "source": [
    "#### 2.2.3"
   ]
  },
  {
   "cell_type": "code",
   "execution_count": null,
   "id": "41cdb52c",
   "metadata": {},
   "outputs": [],
   "source": []
  },
  {
   "cell_type": "markdown",
   "id": "b3c4570e",
   "metadata": {},
   "source": [
    "### 2.3 Enumeration"
   ]
  },
  {
   "cell_type": "markdown",
   "id": "10072ec2",
   "metadata": {},
   "source": [
    "#### 2.3.1"
   ]
  },
  {
   "cell_type": "code",
   "execution_count": null,
   "id": "9bd7b364",
   "metadata": {},
   "outputs": [],
   "source": []
  },
  {
   "cell_type": "markdown",
   "id": "419d0591",
   "metadata": {},
   "source": [
    "#### 2.3.2"
   ]
  },
  {
   "cell_type": "code",
   "execution_count": null,
   "id": "b7fce91e",
   "metadata": {},
   "outputs": [],
   "source": []
  },
  {
   "cell_type": "markdown",
   "id": "9a6b0a3f",
   "metadata": {},
   "source": [
    "#### 2.3.3"
   ]
  },
  {
   "cell_type": "code",
   "execution_count": null,
   "id": "f24ac725",
   "metadata": {},
   "outputs": [],
   "source": []
  },
  {
   "cell_type": "markdown",
   "id": "311bb476",
   "metadata": {},
   "source": [
    "#### 2.3.4"
   ]
  },
  {
   "cell_type": "code",
   "execution_count": null,
   "id": "a7087579",
   "metadata": {},
   "outputs": [],
   "source": []
  },
  {
   "cell_type": "markdown",
   "id": "3a6375f4",
   "metadata": {},
   "source": [
    "#### 2.3.5"
   ]
  },
  {
   "cell_type": "code",
   "execution_count": null,
   "id": "177723c2",
   "metadata": {},
   "outputs": [],
   "source": []
  },
  {
   "cell_type": "markdown",
   "id": "38fceff7",
   "metadata": {},
   "source": [
    "#### 2.3.6"
   ]
  },
  {
   "cell_type": "code",
   "execution_count": null,
   "id": "53c109b3",
   "metadata": {},
   "outputs": [],
   "source": []
  },
  {
   "cell_type": "markdown",
   "id": "06cd0dd4",
   "metadata": {},
   "source": [
    "### 2.4  D’autres directions"
   ]
  },
  {
   "cell_type": "code",
   "execution_count": null,
   "id": "c8c84e4e",
   "metadata": {},
   "outputs": [],
   "source": []
  }
 ],
 "metadata": {
  "kernelspec": {
   "display_name": "Python 3 (ipykernel)",
   "language": "python",
   "name": "python3"
  },
  "language_info": {
   "codemirror_mode": {
    "name": "ipython",
    "version": 3
   },
   "file_extension": ".py",
   "mimetype": "text/x-python",
   "name": "python",
   "nbconvert_exporter": "python",
   "pygments_lexer": "ipython3",
   "version": "3.9.7"
  }
 },
 "nbformat": 4,
 "nbformat_minor": 5
}
