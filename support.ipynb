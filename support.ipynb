{
 "cells": [
  {
   "cell_type": "markdown",
   "id": "72dcdf4c",
   "metadata": {},
   "source": [
    "# Projet Labyrinthe - support"
   ]
  },
  {
   "cell_type": "markdown",
   "id": "66eeeb73",
   "metadata": {},
   "source": [
    "## Génération de pseudo-labyrinthes"
   ]
  },
  {
   "cell_type": "markdown",
   "id": "f6aef951",
   "metadata": {},
   "source": [
    "- Représentation des murs verticaux et horizontaux par des nombres binaires\n",
    "- Énumération des dits nombres\n",
    "- Création d'un pseudo-labyrinthe pour chaque couple possible\n"
   ]
  },
  {
   "cell_type": "markdown",
   "id": "22c404be",
   "metadata": {},
   "source": [
    "<img src=\"data/docs/plab43_exemple.PNG\" style=\"width: 50%; float: center\"/>"
   ]
  },
  {
   "cell_type": "markdown",
   "id": "09de9d3e",
   "metadata": {},
   "source": [
    "*légende: pseudo-labyrinthe de dimensions $3\\times4$ généré aléatoirement*\n",
    "\n",
    "Il est représenté par deux nombres binaires:\n",
    "\n",
    " - Murs verticaux:  { 1 0 0 1 0 0 0 0 0 }\n",
    " \n",
    " - Murs horizontaux:  { 0 0 1 0 0 1 1 0 }\n",
    " \n",
    "(Connaissant bien sûr le nombre de colonnes de la grille)"
   ]
  },
  {
   "cell_type": "markdown",
   "id": "e3e3993e",
   "metadata": {},
   "source": [
    "## Introduction aux graphes"
   ]
  },
  {
   "cell_type": "markdown",
   "id": "5fd03e8b",
   "metadata": {},
   "source": [
    "### Noeuds, arretes"
   ]
  },
  {
   "cell_type": "markdown",
   "id": "e367be21",
   "metadata": {},
   "source": [
    "Définitions:\n",
    "\n",
    " - Un graphe est un ensemble de nœuds (sommets, points) reliés ou non par des arêtes.\n",
    "\n",
    " - Un chemin est une succession de nœuds relies par des arêtes.\n",
    "\n",
    " - On dit qu'un graphe est connexe s'il existe toujours au moins un chemin reliant deux sommets.\n"
   ]
  },
  {
   "cell_type": "markdown",
   "id": "0cd3dfd8",
   "metadata": {},
   "source": [
    "<img src=\"data/docs/graphe.png\">"
   ]
  },
  {
   "cell_type": "markdown",
   "id": "d67d0871",
   "metadata": {},
   "source": [
    "*légende: chaque cercle est un nœud, chaque ligne est une arête*"
   ]
  },
  {
   "cell_type": "markdown",
   "id": "47c3f12e",
   "metadata": {},
   "source": [
    "### Arbres (couvrants)"
   ]
  },
  {
   "cell_type": "markdown",
   "id": "12091617",
   "metadata": {},
   "source": [
    "Définition:\n",
    "\n",
    " - un arbre est un graphe acyclique et connexe, c'est à dire qu'il existe exactement un chemin entre deux sommets donnés\n",
    "\n",
    " - un arbre $A$ couvre un graphe $G$ (connexe) ssi $A$ contient tous les nœuds de $G$ et toutes les arêtes de $A$ appartiennent a $G$\n",
    " "
   ]
  },
  {
   "cell_type": "markdown",
   "id": "9f424c52",
   "metadata": {},
   "source": [
    "<img src=\"data/docs/arbre.png\">"
   ]
  },
  {
   "cell_type": "markdown",
   "id": "473a3038",
   "metadata": {},
   "source": [
    "*légende: exemple d'arbre*"
   ]
  },
  {
   "cell_type": "markdown",
   "id": "f07d39ad",
   "metadata": {},
   "source": [
    "<table>\n",
    "    <tr>\n",
    "        <th><img src=\"data/docs/arbre_couvrant.PNG\"></th>\n",
    "    </tr>\n",
    "</table>"
   ]
  },
  {
   "cell_type": "markdown",
   "id": "be364dd0",
   "metadata": {},
   "source": [
    "*légende: un graphe $G$ (à gauche), un arbre couvrant $G$ (à droite)*"
   ]
  },
  {
   "cell_type": "markdown",
   "id": "2c53faee",
   "metadata": {},
   "source": [
    "### Visualisation et lien avec les labyrinthes"
   ]
  },
  {
   "cell_type": "markdown",
   "id": "b2e971c0",
   "metadata": {},
   "source": [
    "Afin de visualiser des pseudo-labyrinthes et des labyrinthes, on utilise la librairie matplotib.\n",
    "\n",
    "On affiche à la fois les murs du labyrinthe mais aussi le graphe (connexe ou non) associé.\n",
    "\n",
    "Chaque case de la grille est un nœud, chaque vide entre deux cases est une arête."
   ]
  },
  {
   "cell_type": "markdown",
   "id": "4e5ff614",
   "metadata": {},
   "source": [
    "<table>\n",
    "  <tr>\n",
    "    <th><img src=\"data/docs/plab33_1.png\" style=\"width:100%\"/></th>\n",
    "    <th><img src=\"data/docs/plab33_2.png\" style=\"width:100%\"/></th>\n",
    "  </tr>\n",
    "</table>"
   ]
  },
  {
   "cell_type": "markdown",
   "id": "8de67f79",
   "metadata": {},
   "source": [
    "*légende: exemples d'affichage de pseudo-labyrinthes*\n",
    "\n",
    "Chaque pseudo-labyrinthe est associe à un unique graphe."
   ]
  },
  {
   "cell_type": "markdown",
   "id": "fc20177b",
   "metadata": {},
   "source": [
    "<img src=\"data/docs/lab33.png\" />"
   ]
  },
  {
   "cell_type": "markdown",
   "id": "bfb0e8d3",
   "metadata": {},
   "source": [
    "*légende: exemples d'affichage de labyrinthes*\n",
    "\n",
    "On remarque que le graphe associé à un vrai labyrinthe est un arbre couvrant de la grille."
   ]
  },
  {
   "cell_type": "markdown",
   "id": "73acff96",
   "metadata": {},
   "source": [
    "## Génération de labyrinthes (brute force)"
   ]
  },
  {
   "cell_type": "markdown",
   "id": "7d8d6009",
   "metadata": {},
   "source": [
    "On présente ici notre première tentative de génération de tous les labyrinthes de dimensions $n\\times m$."
   ]
  },
  {
   "cell_type": "markdown",
   "id": "d82f43cd",
   "metadata": {},
   "source": [
    "### Principe de fonctionnement "
   ]
  },
  {
   "cell_type": "markdown",
   "id": "9af52834",
   "metadata": {},
   "source": [
    "On genere tous les pseudo-labyrinthes de dimensions $n\\times m$,\n",
    "\n",
    "on verifie pour chaque pseudo-labyrinthe si c'est un labyrinthe."
   ]
  },
  {
   "cell_type": "markdown",
   "id": "beab193f",
   "metadata": {},
   "source": [
    "### Parcours de graphe"
   ]
  },
  {
   "cell_type": "markdown",
   "id": "2481f92d",
   "metadata": {},
   "source": [
    "Pour verifier si un pseudo-labyrinthe est un labyrinthe, on implemente une fonction ```get_cell_occurences()```.\n",
    "\n",
    "On part de la cellule (0,0), et pour chaque cellule de la grille, on donne le nombre de chemins la liant a (0,0).\n",
    "\n",
    "On classe ces valeurs dans une matrice de dimensions $n\\times m$.\n",
    "\n",
    "La matrice associee a un vrai labyrinthe ne contient que des 1."
   ]
  },
  {
   "cell_type": "markdown",
   "id": "145e4bd6",
   "metadata": {},
   "source": [
    "<table>\n",
    "    <tr>\n",
    "        <th>\n",
    "            $ W =\n",
    "                 \\begin{bmatrix}\n",
    "                     1 & 1 & 0\\\\\n",
    "                     1 & 1 & 1\\\\ \n",
    "                 \\end{bmatrix}\n",
    "            $\n",
    "        </th>\n",
    "        <th>\n",
    "            <img src=\"data/docs/plab33_2.png\" style=\"float:center; width:60%\" />\n",
    "        </th>\n",
    "    </tr>\n",
    "    <tr>\n",
    "        <th>\n",
    "            $ W =\n",
    "                 \\begin{bmatrix}\n",
    "                     1 & 1 & 1\\\\\n",
    "                     1 & 1 & 1\\\\ \n",
    "                 \\end{bmatrix}\n",
    "            $\n",
    "        </th>\n",
    "        <th>\n",
    "            <img src=\"data/docs/lab33.png\" style=\"float:center; width:60%\" />\n",
    "        </th>    </tr>\n",
    "</table>"
   ]
  },
  {
   "cell_type": "markdown",
   "id": "fcccdd8b",
   "metadata": {},
   "source": [
    "### Problèmes "
   ]
  },
  {
   "cell_type": "markdown",
   "id": "2de25260",
   "metadata": {},
   "source": [
    "Le nombre de pseudo-labyrinthes de dimensions $n\\times m$ est : $2^{n(m-1)+m(n-1)}$\n",
    "\n",
    "Le tableau ci-dessous recapitule ces valeurs de 1 a 4.\n",
    "\n",
    "<table>\n",
    "    <tr><th> </th><th>1</th><th>2</th><th>3</th><th>4</th></tr>    \n",
    "    <tr><th>1</th><th style=\"font-weight: lighter\">1</th><th style=\"font-weight: lighter\">2</th><th style=\"font-weight: lighter\">4</th><th style=\"font-weight: lighter\">8</th></tr>\n",
    "    <tr><th>2</th><th style=\"font-weight: lighter\">2</th><th style=\"font-weight: lighter\">16</th><th style=\"font-weight: lighter\">128</th><th style=\"font-weight: lighter\">1024</th></tr>\n",
    "    <tr><th>3</th><th style=\"font-weight: lighter\">4</th><th style=\"font-weight: lighter\">128</th><th style=\"font-weight: lighter\">4096</th><th>$2^{17}$</th></tr>\n",
    "    <tr><th>4</th><th style=\"font-weight: lighter\">8</th><th style=\"font-weight: lighter\">1024</th><th>$2^{17}$</th><th>$2^{24}$</th></tr>\n",
    "</table>\n",
    "\n",
    "On remarque que le nombre de pseudo-labyrinthes évolue exponentiellement lorsque les dimensions de la grille évoluent linéairement.\n",
    "\n",
    "Un algorithme type brute force aura donc une complexité exponentielle."
   ]
  },
  {
   "cell_type": "markdown",
   "id": "4a357f13",
   "metadata": {},
   "source": [
    "## Génération de labyrinthes : transformation d'arbres couvrants"
   ]
  },
  {
   "cell_type": "markdown",
   "id": "25ff5354",
   "metadata": {},
   "source": [
    "### Principe de fonctionnement"
   ]
  },
  {
   "cell_type": "markdown",
   "id": "db342e4b",
   "metadata": {},
   "source": [
    "On génère tous les labyrinthes de taille $2\\times 3$ en partant d'un labyrinthe triviale, et en le transformant en d'autres labyrinthes jusqu'à épuisement des transformations possibles.\n",
    "\n",
    "La racine d'un arbre est un sommet arbitraire (ce graphe étant non orientés).\n",
    "\n",
    "On prend pour racine la case `(0,0)`.\n",
    "\n",
    "On définit un cul-de-sac comme une extrémité de l'arbre différente de sa racine."
   ]
  },
  {
   "cell_type": "markdown",
   "id": "00c79c74",
   "metadata": {},
   "source": [
    "<img src=\"data/docs/gene0.png\" style=\"float:right; width: 30%\"/>\n",
    "\n",
    "Prenons l'exemple des labyrinthes de dimension $2\\times 3$"
   ]
  },
  {
   "cell_type": "markdown",
   "id": "0f9cbbe4",
   "metadata": {},
   "source": [
    "<img src=\"data/docs/gene1.png\" style=\"float:right; width: 30%\"/>\n",
    "\n",
    "#### Etape 1\n",
    "On considère le labyrinthe canonique et son graphe associé,\n",
    "\n",
    "on l'ajoute à la liste des labyrinthes `non_traites`.\n"
   ]
  },
  {
   "cell_type": "markdown",
   "id": "4eacaeaf",
   "metadata": {},
   "source": [
    "<img src=\"data/docs/gene1r.png\" style=\"float:right; width: 30%\"/>\n",
    "\n",
    "#### Etape 2\n",
    "\n",
    "On cherche les culs-de-sac du labyrinthe (ici il y en a 1)\n",
    "\n",
    "On retire le labyrinthe de la liste `non_traites`.\n"
   ]
  },
  {
   "cell_type": "markdown",
   "id": "89ae5642",
   "metadata": {},
   "source": [
    "<img src=\"data/docs/gene2.png\" style=\"float:right; width: 30%\"/>\n",
    "\n",
    "#### Etape 3\n",
    "\n",
    "On déplace le mur autour du cul-de-sac.\n",
    "\n",
    "On ajoute le nouveau labyrinthe a la liste `non_traites`."
   ]
  },
  {
   "cell_type": "markdown",
   "id": "10314510",
   "metadata": {},
   "source": [
    "<img src=\"data/docs/gene2r.png\" style=\"float:right; width: 30%\"/>\n",
    "\n",
    "#### Etape 4\n",
    "\n",
    "On cherche les culs-de-sac du labyrinthe (ici il y en a 2)\n",
    "\n",
    "On retire le labyrinthe de la liste `non_traites`."
   ]
  },
  {
   "cell_type": "markdown",
   "id": "235687c8",
   "metadata": {},
   "source": [
    "<img src=\"data/docs/gene1.png\" style=\"float:right; width: 30%\"/>\n",
    "\n",
    "#### Etape 5\n",
    "\n",
    "On gère le cul-de-sac du bas:\n",
    "\n",
    " - On déplace le mur autour de ce cul-de-sac\n",
    " - Ce labyrinthe a déjà été créé, on ne le rajoute pas à la liste `non_traites`"
   ]
  },
  {
   "cell_type": "markdown",
   "id": "9a8d50a7",
   "metadata": {},
   "source": [
    "<img src=\"data/docs/gene3.png\" style=\"float:right; width: 30%\"/>\n",
    "\n",
    "On gère le cul-de-sac du haut:\n",
    "\n",
    " - On déplace le mur autour de ce cul-de-sac\n",
    " - Ce labyrinthe est nouveau, on l'ajoute à la liste `non_traites`"
   ]
  },
  {
   "cell_type": "markdown",
   "id": "37be344c",
   "metadata": {},
   "source": [
    "#### Etape 5\n",
    "\n",
    "On applique les étapes 4 à 6 sur le dernier labyrinthe de la liste `non_traites`, tant que la liste n'est pas vide."
   ]
  },
  {
   "cell_type": "markdown",
   "id": "e42a9f90",
   "metadata": {},
   "source": [
    "### Problèmes\n",
    "\n",
    "- Redondance des labyrinthes générées\n",
    "- Démonstration manquante"
   ]
  }
 ],
 "metadata": {
  "kernelspec": {
   "display_name": "Python 3 (ipykernel)",
   "language": "python",
   "name": "python3"
  },
  "language_info": {
   "codemirror_mode": {
    "name": "ipython",
    "version": 3
   },
   "file_extension": ".py",
   "mimetype": "text/x-python",
   "name": "python",
   "nbconvert_exporter": "python",
   "pygments_lexer": "ipython3",
   "version": "3.9.7"
  }
 },
 "nbformat": 4,
 "nbformat_minor": 5
}
